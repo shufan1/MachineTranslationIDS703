{
 "cells": [
  {
   "cell_type": "code",
   "execution_count": 76,
   "metadata": {},
   "outputs": [],
   "source": [
    "import numpy\n",
    "import nltk\n",
    "import re\n",
    "from itertools import chain"
   ]
  },
  {
   "cell_type": "markdown",
   "metadata": {},
   "source": [
    "# Clean up raw data\n",
    "split to English and Spanish corpus\n",
    "make vocabulary for both"
   ]
  },
  {
   "cell_type": "code",
   "execution_count": 61,
   "metadata": {},
   "outputs": [
    {
     "data": {
      "text/plain": [
       "134736"
      ]
     },
     "execution_count": 61,
     "metadata": {},
     "output_type": "execute_result"
    }
   ],
   "source": [
    "with open('spa.txt') as f:\n",
    "    lines = f.readlines()\n",
    "print(len(lines))\n",
    "\n",
    "def split(line):\n",
    "    l = re.split(\"\\t\",line)\n",
    "    e = l[0]\n",
    "    s = re.findall(\"\\S.+\",l[1])[0]\n",
    "    return e,s\n",
    "\n",
    "l_split = list(map(lambda line:split(line),lines))\n",
    "e_corpus = [l[0] for l in l_split]\n",
    "s_corpus = [l[1] for l in l_split]\n",
    "print(len(e_corpus))\n",
    "print(len(s_corpus))\n",
    "\n",
    "e_words = list(map(lambda e_sent:nltk.word_tokenize(e_sent.lower()), e_corpus))\n",
    "e_vocabulary = set(list(chain.from_iterable(e_words)))\n",
    "s_words = list(map(lambda s_sent:nltk.word_tokenize(s_sent.lower()), s_corpus))\n",
    "s_vocabulary = set(list(chain.from_iterable(s_words)))\n",
    "\n",
    "print(\"English vocabulary size\", len(e_vocabulary))\n",
    "print(\"Spanish vocabulary size\", len(s_vocabulary))"
   ]
  },
  {
   "cell_type": "markdown",
   "metadata": {},
   "source": []
  }
 ],
 "metadata": {
  "interpreter": {
   "hash": "b10cdd4904fdd44c62b07c72ba64e3113d365136411c6c9d777e955188ee8c1b"
  },
  "kernelspec": {
   "display_name": "Python 3.8.10 64-bit ('.nlp_env': venv)",
   "language": "python",
   "name": "python3"
  },
  "language_info": {
   "codemirror_mode": {
    "name": "ipython",
    "version": 3
   },
   "file_extension": ".py",
   "mimetype": "text/x-python",
   "name": "python",
   "nbconvert_exporter": "python",
   "pygments_lexer": "ipython3",
   "version": "3.8.10"
  },
  "orig_nbformat": 4
 },
 "nbformat": 4,
 "nbformat_minor": 2
}
